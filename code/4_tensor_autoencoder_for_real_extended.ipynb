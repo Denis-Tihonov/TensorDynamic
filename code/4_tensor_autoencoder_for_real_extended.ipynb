{
 "cells": [
  {
   "cell_type": "markdown",
   "id": "38566fce-9fbd-4949-95cb-47c68294aabd",
   "metadata": {},
   "source": []
  },
  {
   "cell_type": "code",
   "execution_count": 1,
   "id": "57de2f30-0b1c-4a74-9bb8-81f15432d444",
   "metadata": {},
   "outputs": [],
   "source": [
    "import sys\n",
    "# !{sys.executable} -m pip install pytorch torchvision cudatoolkit==10.1"
   ]
  },
  {
   "cell_type": "code",
   "execution_count": 2,
   "id": "e8297d51-3d65-49fe-91dc-5f0afa417ad8",
   "metadata": {},
   "outputs": [],
   "source": [
    "import sys\n",
    "import warnings\n",
    "import math as m\n",
    "import numpy as np\n",
    "import pandas as pd\n",
    "import tensorly as tl\n",
    "import matplotlib.cm as cm\n",
    "import matplotlib.pyplot as plt\n",
    "from tqdm import tqdm\n",
    "\n",
    "from sklearn.decomposition import PCA\n",
    "from statsmodels.tsa.stattools import acf\n",
    "\n",
    "import scipy\n",
    "from scipy.linalg import hankel\n",
    "from scipy.signal import find_peaks\n",
    "from scipy.spatial import distance_matrix\n",
    "from sklearn.metrics import mean_absolute_percentage_error as mape\n",
    "from sklearn.metrics import mean_squared_error as mse\n",
    "from sklearn.metrics import r2_score \n",
    "\n",
    "import torch\n",
    "import torch.nn as nn\n",
    "import torch.nn.functional as F\n",
    "import torch.optim as optim\n",
    "from torch.autograd import Variable\n",
    "from torch.nn.parameter import Parameter\n",
    "from torch.nn.init import xavier_normal_\n",
    "\n",
    "from visuals import SSA, plot_phase_trajectory, delay_embedding_matrix"
   ]
  },
  {
   "cell_type": "code",
   "execution_count": 3,
   "id": "a65ee36f-d793-48a7-9289-34d2b3cc5a80",
   "metadata": {},
   "outputs": [],
   "source": [
    "def delay_embedding_matrix(s, nlags, fit_intercept=False):\n",
    "    \"\"\"Make a matrix with delay embeddings.\n",
    "\n",
    "    Parameters\n",
    "    ----------\n",
    "    s : np.array\n",
    "        The time series data.\n",
    "\n",
    "    nlags : int\n",
    "        Size of time lags.\n",
    "\n",
    "    Returns\n",
    "    -------\n",
    "    delay_embedding_matrix : np.array of shape  (len(s) - lags + 1 , lags)\n",
    "        Matrix with lags.\n",
    "    \"\"\" \n",
    "    N = len(s)\n",
    "    delay_embedding_matrix = hankel(s[ : N - nlags + 1], s[N - nlags : N])\n",
    "    if fit_intercept:\n",
    "        delay_embedding_matrix = np.hstack((np.ones((delay_embedding_matrix.shape[0],1)),delay_embedding_matrix))\n",
    "    return delay_embedding_matrix\n",
    "\n",
    "def diag_mean(array):\n",
    "    array = array[::-1]\n",
    "    ts = [array.diagonal(j).mean() for j in range(-array.shape[0]+1, array.shape[1])]\n",
    "    return ts\n",
    "\n",
    "def prepare_time_series(path, centred = True):\n",
    "    data = pd.read_csv(path, delimiter =';', decimal=',')\n",
    "    \n",
    "    time_series = data[['X_value', 'Y_value', 'Z_value']]\n",
    "    time_series[['x axis', 'y axis', 'z axis']] = time_series[['X_value', 'Y_value', 'Z_value']]\n",
    "    time_series = time_series[['x axis', 'y axis', 'z axis']]\n",
    "    if centred:\n",
    "        time_series = (time_series - np.mean(time_series, axis = 0))/np.std(time_series, axis = 0)\n",
    "        \n",
    "    time_points = (data['time'].values).astype(float).reshape([-1,])\n",
    "    time_points = np.linspace(0,time_points[-1]-time_points[0],time_series.shape[0])\n",
    "\n",
    "    return time_series,time_points"
   ]
  },
  {
   "cell_type": "code",
   "execution_count": 4,
   "id": "ec875584-2886-40cf-9e9c-2f1f85c8fe7f",
   "metadata": {},
   "outputs": [],
   "source": [
    "plt.rcParams['font.family'] = 'DejaVu Serif'"
   ]
  },
  {
   "cell_type": "markdown",
   "id": "8ca22d45-90fb-44af-8383-6d25d2bc4880",
   "metadata": {},
   "source": [
    "# Henon map example"
   ]
  },
  {
   "cell_type": "code",
   "execution_count": 5,
   "id": "35f676a7-85b6-4d81-bcdf-ec398b8c3c37",
   "metadata": {},
   "outputs": [],
   "source": [
    "def henon_map(x, y, a = 1, b = 1, c = 1.4, d = 0.3):\n",
    "\tx_n = a + b*y + c*x ** 2\n",
    "\ty_n = d * x\n",
    "\treturn x_n, y_n"
   ]
  },
  {
   "cell_type": "code",
   "execution_count": 6,
   "id": "e943a54d-62fd-407a-b66b-784238c9233f",
   "metadata": {},
   "outputs": [],
   "source": [
    "n = 1_000_000\n",
    "xs, ys = [1.076], [-0.12]\n",
    "for i in range(n):\n",
    "    x_n, y_n = henon_map(xs[-1], ys[-1], a=1 , b=1, c=-1.4, d=0.3)\n",
    "    xs.append(x_n)\n",
    "    ys.append(y_n)"
   ]
  },
  {
   "cell_type": "code",
   "execution_count": 7,
   "id": "c8a79687-856f-4bc5-aa41-7c946338629b",
   "metadata": {},
   "outputs": [],
   "source": [
    "x_delay = delay_embedding_matrix(xs,2)\n",
    "y_delay = delay_embedding_matrix(ys,2)"
   ]
  },
  {
   "cell_type": "code",
   "execution_count": 8,
   "id": "0ab1a9b7-eb14-4e6c-aadf-5e2848dba028",
   "metadata": {},
   "outputs": [
    {
     "data": {
      "image/png": "[encoded data removed]",
      "text/plain": [
       "<Figure size 1300x300 with 3 Axes>"
      ]
     },
     "metadata": {},
     "output_type": "display_data"
    }
   ],
   "source": [
    "fig, axs = plt.subplots(figsize=(13, 3), ncols=3)\n",
    "for i, x, y in [(0,ys, xs), (1,x_delay[:,0], x_delay[:,1]), (2,y_delay[:,0], y_delay[:,1])]:\n",
    "    axs[i].plot(x, y, '.', markersize=0.02)\n",
    "    axs[i].set_ylim(-1.5,1.5)\n",
    "    axs[i].set_xlim(-1.5,1.5)\n",
    "\n",
    "plt.savefig(f'./../resources/reconst.png', format='png', dpi=200)"
   ]
  },
  {
   "cell_type": "markdown",
   "id": "76d44642-4653-4d68-a5c8-2e070c3cac79",
   "metadata": {},
   "source": [
    "# Real time series"
   ]
  },
  {
   "cell_type": "code",
   "execution_count": 43,
   "id": "44b34bb9-3581-4877-9a45-27b1a81e76b4",
   "metadata": {},
   "outputs": [],
   "source": [
    "class MultilinearAE(nn.Module):\n",
    "\n",
    "    def __init__(self, x_dims, rank, attractor_dim):\n",
    "        super(MultilinearAE, self).__init__()\n",
    "        self.x_dims = x_dims\n",
    "        self.rank = rank\n",
    "        self.attractor_dim = attractor_dim\n",
    "        # self.add_ones = add_ones\n",
    "\n",
    "        self.x_weights = [Parameter(torch.Tensor(dims, self.rank).cuda()) for dims in x_dims]\n",
    "        self.attractor_weights = Parameter(torch.Tensor(self.rank, self.attractor_dim).cuda())\n",
    "\n",
    "        self.x_weights_out = [Parameter(torch.Tensor(attractor_dim, dims).cuda()) for dims in x_dims]\n",
    "        \n",
    "        _ = [xavier_normal_(x_weight) for x_weight in self.x_weights]\n",
    "        _ = xavier_normal_(self.attractor_weights)\n",
    "\n",
    "    def encoder(self, Xs):\n",
    "        batch_size = Xs[0].shape[0]\n",
    "\n",
    "        hidden_Xs = [torch.matmul(Xs[i], x_weight) for i, x_weight in enumerate(self.x_weights)]\n",
    "        hidden_X = 0 \n",
    "        for x in hidden_Xs:\n",
    "            hidden_X += x\n",
    "        \n",
    "        S = torch.matmul(hidden_X, self.attractor_weights)\n",
    "        return S\n",
    "\n",
    "    def decoder(self, S):\n",
    "        Xs_pred = [torch.matmul(S, x_weight) for i, x_weight in enumerate(self.x_weights_out)]\n",
    "        return Xs_pred\n",
    "        \n",
    "    def forward(self, Xs):\n",
    "         S = self.encoder(Xs)\n",
    "         Xs_pred = self.decoder(S)\n",
    "         return Xs_pred"
   ]
  },
  {
   "cell_type": "code",
   "execution_count": 47,
   "id": "f5989223-6730-43a9-ab96-b04b59701511",
   "metadata": {},
   "outputs": [],
   "source": [
    "def tensor_model_fit_transform(npa_Xs, attractor_dim):\n",
    "    rank = 10\n",
    "    x_dims = [x.shape[1] for x in npa_Xs] \n",
    "    model = MultilinearAE(x_dims, rank, attractor_dim)\n",
    "    model.cuda()\n",
    "\n",
    "    optimizer = optim.Adam(model.parameters())\n",
    "    epoch = 2000 \n",
    "    loss_function = nn.MSELoss()\n",
    "    ta_Xs = [torch.from_numpy(x).to(torch.float).cuda() for x in npa_Xs]\n",
    "    for i in range(epoch):\n",
    "        loss = 0\n",
    "        optimizer.zero_grad()\n",
    "        ta_Xs_rec = model(ta_Xs)\n",
    "        for X, X_rec in zip(ta_Xs, ta_Xs_rec):\n",
    "            loss += loss_function(X, X_rec)\n",
    "        loss.backward()\n",
    "        optimizer.step()\n",
    "\n",
    "    X_attract = model.encoder(ta_Xs).cpu().detach().numpy()\n",
    "    return X_attract"
   ]
  },
  {
   "cell_type": "code",
   "execution_count": 50,
   "id": "451fcb08-8531-4a3f-997a-4768a2d861cb",
   "metadata": {},
   "outputs": [],
   "source": [
    "def main(activity):\n",
    "    result_tables_model_names = [\n",
    "        'X', 'Y', 'RSS XY',\n",
    "        'Stacked XY', 'Tensor XY'\n",
    "    ]\n",
    "     \n",
    "    pdf_result_r2 = pd.DataFrame(columns=result_tables_model_names)\n",
    "    pdf_result_mse, pdf_result_mape = pdf_result_r2.copy(), pdf_result_r2.copy()\n",
    "    \n",
    "    # for person in tqdm(np.arange(1,3)):\n",
    "    for person in tqdm(np.arange(1,25)):\n",
    "        _pdf_result_r2 = pd.DataFrame(columns=result_tables_model_names)\n",
    "        _pdf_result_mse, _pdf_result_mape = _pdf_result_r2.copy(), _pdf_result_r2.copy()\n",
    "        \n",
    "        pdf_data_all = pd.read_csv(f'./../data/A_DeviceMotion_data/{activity}/sub_{person}.csv').loc[::freq_n].reset_index(drop=True)\n",
    "        mean = pdf_data_all[['userAcceleration.x', 'userAcceleration.y', 'userAcceleration.z']].mean()\n",
    "        var = pdf_data_all[['userAcceleration.x', 'userAcceleration.y', 'userAcceleration.z']].var()**.5\n",
    "        pdf_data_all[['userAcceleration.x', 'userAcceleration.y', 'userAcceleration.z']] = (pdf_data_all[['userAcceleration.x', 'userAcceleration.y', 'userAcceleration.z']]-mean)/var\n",
    "        \n",
    "        ############### Components TDE ####################################################\n",
    "        X_tde = delay_embedding_matrix(pdf_data_all['userAcceleration.x'].to_numpy(), lag, fit_intercept=False)[:,::freq_n]\n",
    "        Y_tde = delay_embedding_matrix(pdf_data_all['userAcceleration.y'].to_numpy(), lag, fit_intercept=False)[:,::freq_n]\n",
    "        Z_tde = delay_embedding_matrix(pdf_data_all['userAcceleration.z'].to_numpy(), lag)[:,::freq_n]\n",
    "    \n",
    "        ##########################################################################################                         \n",
    "        Xs_tde = np.array([\n",
    "            delay_embedding_matrix(pdf_data_all['userAcceleration.x'].to_numpy(), lag, fit_intercept=True)[:,::freq_n],\n",
    "            delay_embedding_matrix(pdf_data_all['userAcceleration.y'].to_numpy(), lag, fit_intercept=True)[:,::freq_n]\n",
    "        ])\n",
    "        \n",
    "        XY_stack = np.hstack((Xs_tde[0,:,:], Xs_tde[1,:,:]))    \n",
    "        ##########################################################################################\n",
    "        \n",
    "        pdf_root = pdf_data_all[['userAcceleration.x', 'userAcceleration.y']].copy()+20\n",
    "        array_root = (pdf_root['userAcceleration.x'].to_numpy()**2 + pdf_root['userAcceleration.y'].to_numpy()**2)**.5\n",
    "        array_root = (array_root - array_root.mean())/array_root.var()\n",
    "        XY_rss = delay_embedding_matrix(array_root, lag)\n",
    "        ##########################################################################################\n",
    "        ##########################################################################################\n",
    "\n",
    "        # for dim_n in range(2,10):\n",
    "        for dim_n in range(3,21):\n",
    "            ############### Simple PCA for X #########################################################\n",
    "            S_attr_x = PCA(n_components=dim_n).fit_transform(X_tde)\n",
    "            W_x_tde = (np.linalg.inv(S_attr_x.T@S_attr_x + l2_coef*np.identity(dim_n))@S_attr_x.T@Z_tde)\n",
    "            \n",
    "            ############### Simple PCA for Y #########################################################\n",
    "            S_attr_y = PCA(n_components=dim_n).fit_transform(Y_tde)\n",
    "            W_y_tde = (np.linalg.inv(S_attr_y.T@S_attr_y + l2_coef*np.identity(dim_n))@S_attr_y.T@Z_tde)\n",
    "\n",
    "            ############### Simple PCA for XY ########################################################\n",
    "            S_attr_stack = PCA(n_components=dim_n).fit_transform(XY_stack)\n",
    "            W_stack = (np.linalg.inv(S_attr_stack.T@S_attr_stack + l2_coef*np.identity(dim_n))@S_attr_stack.T@Z_tde)\n",
    "    \n",
    "            ############### PCA for X and Y squared sum ##############################################\n",
    "            S_attr_rss = PCA(n_components=dim_n).fit_transform(XY_rss)\n",
    "            W_xy_rss = (np.linalg.inv(S_attr_rss.T@S_attr_rss + l2_coef*np.identity(dim_n))@S_attr_rss.T@Z_tde)\n",
    "            \n",
    "            ############### Tensor XY and PCA ########################################################\n",
    "            S_attr_tensor = tensor_model_fit_transform(Xs_tde, dim_n)\n",
    "            print(S_attr_tensor)\n",
    "            W_tensor = (np.linalg.inv(S_attr_tensor.T@S_attr_tensor + l2_coef*np.identity(dim_n))@S_attr_tensor.T@Z_tde)\n",
    "            \n",
    "            ##########################################################################################\n",
    "            z_ts = diag_mean(Z_tde)\n",
    "            z_x_tde = diag_mean(S_attr_x@W_x_tde)\n",
    "            z_y_tde = diag_mean(S_attr_y@W_y_tde)\n",
    "            z_xy_stack = diag_mean(S_attr_stack@W_stack)\n",
    "            z_xy_rss = diag_mean(S_attr_rss@W_xy_rss)\n",
    "            z_tensor = diag_mean(S_attr_tensor@W_tensor)\n",
    "            \n",
    "            _pdf_result_r2.loc[dim_n, :] = [\n",
    "                r2_score(z_ts, z_x_tde),\n",
    "                r2_score(z_ts, z_y_tde),\n",
    "                r2_score(z_ts, z_xy_stack),\n",
    "                r2_score(z_ts, z_xy_rss),\n",
    "                r2_score(z_ts, z_tensor)\n",
    "            ]\n",
    "            pdf_result_r2 = pd.concat([pdf_result_r2, _pdf_result_r2], axis=0)\n",
    "            \n",
    "            pdf_result_mse.loc[dim_n, :] = [\n",
    "                mse(z_ts, z_x_tde)**.5,\n",
    "                mse(z_ts, z_y_tde)**.5,\n",
    "                mse(z_ts, z_xy_stack)**.5,\n",
    "                mse(z_ts, z_xy_rss)**.5,\n",
    "                mse(z_ts, z_tensor)**.5\n",
    "            ]\n",
    "            _pdf_result_mse = pd.concat([pdf_result_mse, _pdf_result_mse], axis=0)\n",
    "    \n",
    "    pdf_result_r2 = pdf_result_r2.reset_index().groupby('index').mean()\n",
    "    pdf_result_mse = pdf_result_mse.reset_index().groupby('index').mean()\n",
    "\n",
    "    ax = pdf_result_r2.plot()\n",
    "    ax.set_xlabel(\"Attractor dimension\", fontsize = 20)\n",
    "    ax.set_ylabel(\"R2 score\", fontsize = 20)\n",
    "    plt.savefig(f'./figs/_1_{activity}_r2_z_axis.png', format='png', dpi=150, bbox_inches='tight')\n",
    "    \n",
    "    ax = pdf_result_mse.plot()\n",
    "    ax.set_xlabel(\"Attractor dimension\", fontsize = 20)\n",
    "    ax.set_ylabel(\"Root mean square deviation\", fontsize = 20)\n",
    "    plt.savefig(f'./figs/_2_{activity}_mse_z_axis.png', format='png', dpi=150, bbox_inches='tight')\n",
    "    \n",
    "    return pdf_result_r2, pdf_result_mse"
   ]
  },
  {
   "cell_type": "code",
   "execution_count": 51,
   "id": "56a582c9-2a7e-42cf-a949-85b2687a4829",
   "metadata": {},
   "outputs": [
    {
     "name": "stderr",
     "output_type": "stream",
     "text": [
      "  0%|          | 0/24 [00:01<?, ?it/s]"
     ]
    },
    {
     "name": "stdout",
     "output_type": "stream",
     "text": [
      "[[nan nan nan]\n",
      " [nan nan nan]\n",
      " [nan nan nan]\n",
      " ...\n",
      " [nan nan nan]\n",
      " [nan nan nan]\n",
      " [nan nan nan]]\n"
     ]
    },
    {
     "name": "stderr",
     "output_type": "stream",
     "text": [
      "\n"
     ]
    },
    {
     "ename": "ValueError",
     "evalue": "Input contains NaN.",
     "output_type": "error",
     "traceback": [
      "\u001b[1;31m---------------------------------------------------------------------------\u001b[0m",
      "\u001b[1;31mValueError\u001b[0m                                Traceback (most recent call last)",
      "Cell \u001b[1;32mIn[51], line 4\u001b[0m\n\u001b[0;32m      2\u001b[0m lag \u001b[38;5;241m=\u001b[39m \u001b[38;5;241m90\u001b[39m\n\u001b[0;32m      3\u001b[0m l2_coef \u001b[38;5;241m=\u001b[39m \u001b[38;5;241m0\u001b[39m\n\u001b[1;32m----> 4\u001b[0m pdf_result_r2, pdf_result_mse \u001b[38;5;241m=\u001b[39m \u001b[43mmain\u001b[49m\u001b[43m(\u001b[49m\u001b[38;5;124;43m'\u001b[39;49m\u001b[38;5;124;43mwlk_15\u001b[39;49m\u001b[38;5;124;43m'\u001b[39;49m\u001b[43m)\u001b[49m\n",
      "Cell \u001b[1;32mIn[50], line 77\u001b[0m, in \u001b[0;36mmain\u001b[1;34m(activity)\u001b[0m\n\u001b[0;32m     69\u001b[0m z_xy_rss \u001b[38;5;241m=\u001b[39m diag_mean(S_attr_rss\u001b[38;5;129m@W_xy_rss\u001b[39m)\n\u001b[0;32m     70\u001b[0m z_tensor \u001b[38;5;241m=\u001b[39m diag_mean(S_attr_tensor\u001b[38;5;129m@W_tensor\u001b[39m)\n\u001b[0;32m     72\u001b[0m _pdf_result_r2\u001b[38;5;241m.\u001b[39mloc[dim_n, :] \u001b[38;5;241m=\u001b[39m [\n\u001b[0;32m     73\u001b[0m     r2_score(z_ts, z_x_tde),\n\u001b[0;32m     74\u001b[0m     r2_score(z_ts, z_y_tde),\n\u001b[0;32m     75\u001b[0m     r2_score(z_ts, z_xy_stack),\n\u001b[0;32m     76\u001b[0m     r2_score(z_ts, z_xy_rss),\n\u001b[1;32m---> 77\u001b[0m     \u001b[43mr2_score\u001b[49m\u001b[43m(\u001b[49m\u001b[43mz_ts\u001b[49m\u001b[43m,\u001b[49m\u001b[43m \u001b[49m\u001b[43mz_tensor\u001b[49m\u001b[43m)\u001b[49m\n\u001b[0;32m     78\u001b[0m ]\n\u001b[0;32m     79\u001b[0m pdf_result_r2 \u001b[38;5;241m=\u001b[39m pd\u001b[38;5;241m.\u001b[39mconcat([pdf_result_r2, _pdf_result_r2], axis\u001b[38;5;241m=\u001b[39m\u001b[38;5;241m0\u001b[39m)\n\u001b[0;32m     81\u001b[0m pdf_result_mse\u001b[38;5;241m.\u001b[39mloc[dim_n, :] \u001b[38;5;241m=\u001b[39m [\n\u001b[0;32m     82\u001b[0m     mse(z_ts, z_x_tde)\u001b[38;5;241m*\u001b[39m\u001b[38;5;241m*\u001b[39m\u001b[38;5;241m.5\u001b[39m,\n\u001b[0;32m     83\u001b[0m     mse(z_ts, z_y_tde)\u001b[38;5;241m*\u001b[39m\u001b[38;5;241m*\u001b[39m\u001b[38;5;241m.5\u001b[39m,\n\u001b[1;32m   (...)\u001b[0m\n\u001b[0;32m     86\u001b[0m     mse(z_ts, z_tensor)\u001b[38;5;241m*\u001b[39m\u001b[38;5;241m*\u001b[39m\u001b[38;5;241m.5\u001b[39m\n\u001b[0;32m     87\u001b[0m ]\n",
      "File \u001b[1;32m~\\anaconda3\\envs\\video2text\\lib\\site-packages\\sklearn\\utils\\_param_validation.py:214\u001b[0m, in \u001b[0;36mvalidate_params.<locals>.decorator.<locals>.wrapper\u001b[1;34m(*args, **kwargs)\u001b[0m\n\u001b[0;32m    208\u001b[0m \u001b[38;5;28;01mtry\u001b[39;00m:\n\u001b[0;32m    209\u001b[0m     \u001b[38;5;28;01mwith\u001b[39;00m config_context(\n\u001b[0;32m    210\u001b[0m         skip_parameter_validation\u001b[38;5;241m=\u001b[39m(\n\u001b[0;32m    211\u001b[0m             prefer_skip_nested_validation \u001b[38;5;129;01mor\u001b[39;00m global_skip_validation\n\u001b[0;32m    212\u001b[0m         )\n\u001b[0;32m    213\u001b[0m     ):\n\u001b[1;32m--> 214\u001b[0m         \u001b[38;5;28;01mreturn\u001b[39;00m \u001b[43mfunc\u001b[49m\u001b[43m(\u001b[49m\u001b[38;5;241;43m*\u001b[39;49m\u001b[43margs\u001b[49m\u001b[43m,\u001b[49m\u001b[43m \u001b[49m\u001b[38;5;241;43m*\u001b[39;49m\u001b[38;5;241;43m*\u001b[39;49m\u001b[43mkwargs\u001b[49m\u001b[43m)\u001b[49m\n\u001b[0;32m    215\u001b[0m \u001b[38;5;28;01mexcept\u001b[39;00m InvalidParameterError \u001b[38;5;28;01mas\u001b[39;00m e:\n\u001b[0;32m    216\u001b[0m     \u001b[38;5;66;03m# When the function is just a wrapper around an estimator, we allow\u001b[39;00m\n\u001b[0;32m    217\u001b[0m     \u001b[38;5;66;03m# the function to delegate validation to the estimator, but we replace\u001b[39;00m\n\u001b[0;32m    218\u001b[0m     \u001b[38;5;66;03m# the name of the estimator by the name of the function in the error\u001b[39;00m\n\u001b[0;32m    219\u001b[0m     \u001b[38;5;66;03m# message to avoid confusion.\u001b[39;00m\n\u001b[0;32m    220\u001b[0m     msg \u001b[38;5;241m=\u001b[39m re\u001b[38;5;241m.\u001b[39msub(\n\u001b[0;32m    221\u001b[0m         \u001b[38;5;124mr\u001b[39m\u001b[38;5;124m\"\u001b[39m\u001b[38;5;124mparameter of \u001b[39m\u001b[38;5;124m\\\u001b[39m\u001b[38;5;124mw+ must be\u001b[39m\u001b[38;5;124m\"\u001b[39m,\n\u001b[0;32m    222\u001b[0m         \u001b[38;5;124mf\u001b[39m\u001b[38;5;124m\"\u001b[39m\u001b[38;5;124mparameter of \u001b[39m\u001b[38;5;132;01m{\u001b[39;00mfunc\u001b[38;5;241m.\u001b[39m\u001b[38;5;18m__qualname__\u001b[39m\u001b[38;5;132;01m}\u001b[39;00m\u001b[38;5;124m must be\u001b[39m\u001b[38;5;124m\"\u001b[39m,\n\u001b[0;32m    223\u001b[0m         \u001b[38;5;28mstr\u001b[39m(e),\n\u001b[0;32m    224\u001b[0m     )\n",
      "File \u001b[1;32m~\\anaconda3\\envs\\video2text\\lib\\site-packages\\sklearn\\metrics\\_regression.py:989\u001b[0m, in \u001b[0;36mr2_score\u001b[1;34m(y_true, y_pred, sample_weight, multioutput, force_finite)\u001b[0m\n\u001b[0;32m    848\u001b[0m \u001b[38;5;129m@validate_params\u001b[39m(\n\u001b[0;32m    849\u001b[0m     {\n\u001b[0;32m    850\u001b[0m         \u001b[38;5;124m\"\u001b[39m\u001b[38;5;124my_true\u001b[39m\u001b[38;5;124m\"\u001b[39m: [\u001b[38;5;124m\"\u001b[39m\u001b[38;5;124marray-like\u001b[39m\u001b[38;5;124m\"\u001b[39m],\n\u001b[1;32m   (...)\u001b[0m\n\u001b[0;32m    868\u001b[0m     force_finite\u001b[38;5;241m=\u001b[39m\u001b[38;5;28;01mTrue\u001b[39;00m,\n\u001b[0;32m    869\u001b[0m ):\n\u001b[0;32m    870\u001b[0m \u001b[38;5;250m    \u001b[39m\u001b[38;5;124;03m\"\"\":math:`R^2` (coefficient of determination) regression score function.\u001b[39;00m\n\u001b[0;32m    871\u001b[0m \n\u001b[0;32m    872\u001b[0m \u001b[38;5;124;03m    Best possible score is 1.0 and it can be negative (because the\u001b[39;00m\n\u001b[1;32m   (...)\u001b[0m\n\u001b[0;32m    987\u001b[0m \u001b[38;5;124;03m    -inf\u001b[39;00m\n\u001b[0;32m    988\u001b[0m \u001b[38;5;124;03m    \"\"\"\u001b[39;00m\n\u001b[1;32m--> 989\u001b[0m     y_type, y_true, y_pred, multioutput \u001b[38;5;241m=\u001b[39m \u001b[43m_check_reg_targets\u001b[49m\u001b[43m(\u001b[49m\n\u001b[0;32m    990\u001b[0m \u001b[43m        \u001b[49m\u001b[43my_true\u001b[49m\u001b[43m,\u001b[49m\u001b[43m \u001b[49m\u001b[43my_pred\u001b[49m\u001b[43m,\u001b[49m\u001b[43m \u001b[49m\u001b[43mmultioutput\u001b[49m\n\u001b[0;32m    991\u001b[0m \u001b[43m    \u001b[49m\u001b[43m)\u001b[49m\n\u001b[0;32m    992\u001b[0m     check_consistent_length(y_true, y_pred, sample_weight)\n\u001b[0;32m    994\u001b[0m     \u001b[38;5;28;01mif\u001b[39;00m _num_samples(y_pred) \u001b[38;5;241m<\u001b[39m \u001b[38;5;241m2\u001b[39m:\n",
      "File \u001b[1;32m~\\anaconda3\\envs\\video2text\\lib\\site-packages\\sklearn\\metrics\\_regression.py:101\u001b[0m, in \u001b[0;36m_check_reg_targets\u001b[1;34m(y_true, y_pred, multioutput, dtype)\u001b[0m\n\u001b[0;32m     99\u001b[0m check_consistent_length(y_true, y_pred)\n\u001b[0;32m    100\u001b[0m y_true \u001b[38;5;241m=\u001b[39m check_array(y_true, ensure_2d\u001b[38;5;241m=\u001b[39m\u001b[38;5;28;01mFalse\u001b[39;00m, dtype\u001b[38;5;241m=\u001b[39mdtype)\n\u001b[1;32m--> 101\u001b[0m y_pred \u001b[38;5;241m=\u001b[39m \u001b[43mcheck_array\u001b[49m\u001b[43m(\u001b[49m\u001b[43my_pred\u001b[49m\u001b[43m,\u001b[49m\u001b[43m \u001b[49m\u001b[43mensure_2d\u001b[49m\u001b[38;5;241;43m=\u001b[39;49m\u001b[38;5;28;43;01mFalse\u001b[39;49;00m\u001b[43m,\u001b[49m\u001b[43m \u001b[49m\u001b[43mdtype\u001b[49m\u001b[38;5;241;43m=\u001b[39;49m\u001b[43mdtype\u001b[49m\u001b[43m)\u001b[49m\n\u001b[0;32m    103\u001b[0m \u001b[38;5;28;01mif\u001b[39;00m y_true\u001b[38;5;241m.\u001b[39mndim \u001b[38;5;241m==\u001b[39m \u001b[38;5;241m1\u001b[39m:\n\u001b[0;32m    104\u001b[0m     y_true \u001b[38;5;241m=\u001b[39m y_true\u001b[38;5;241m.\u001b[39mreshape((\u001b[38;5;241m-\u001b[39m\u001b[38;5;241m1\u001b[39m, \u001b[38;5;241m1\u001b[39m))\n",
      "File \u001b[1;32m~\\anaconda3\\envs\\video2text\\lib\\site-packages\\sklearn\\utils\\validation.py:957\u001b[0m, in \u001b[0;36mcheck_array\u001b[1;34m(array, accept_sparse, accept_large_sparse, dtype, order, copy, force_all_finite, ensure_2d, allow_nd, ensure_min_samples, ensure_min_features, estimator, input_name)\u001b[0m\n\u001b[0;32m    951\u001b[0m         \u001b[38;5;28;01mraise\u001b[39;00m \u001b[38;5;167;01mValueError\u001b[39;00m(\n\u001b[0;32m    952\u001b[0m             \u001b[38;5;124m\"\u001b[39m\u001b[38;5;124mFound array with dim \u001b[39m\u001b[38;5;132;01m%d\u001b[39;00m\u001b[38;5;124m. \u001b[39m\u001b[38;5;132;01m%s\u001b[39;00m\u001b[38;5;124m expected <= 2.\u001b[39m\u001b[38;5;124m\"\u001b[39m\n\u001b[0;32m    953\u001b[0m             \u001b[38;5;241m%\u001b[39m (array\u001b[38;5;241m.\u001b[39mndim, estimator_name)\n\u001b[0;32m    954\u001b[0m         )\n\u001b[0;32m    956\u001b[0m     \u001b[38;5;28;01mif\u001b[39;00m force_all_finite:\n\u001b[1;32m--> 957\u001b[0m         \u001b[43m_assert_all_finite\u001b[49m\u001b[43m(\u001b[49m\n\u001b[0;32m    958\u001b[0m \u001b[43m            \u001b[49m\u001b[43marray\u001b[49m\u001b[43m,\u001b[49m\n\u001b[0;32m    959\u001b[0m \u001b[43m            \u001b[49m\u001b[43minput_name\u001b[49m\u001b[38;5;241;43m=\u001b[39;49m\u001b[43minput_name\u001b[49m\u001b[43m,\u001b[49m\n\u001b[0;32m    960\u001b[0m \u001b[43m            \u001b[49m\u001b[43mestimator_name\u001b[49m\u001b[38;5;241;43m=\u001b[39;49m\u001b[43mestimator_name\u001b[49m\u001b[43m,\u001b[49m\n\u001b[0;32m    961\u001b[0m \u001b[43m            \u001b[49m\u001b[43mallow_nan\u001b[49m\u001b[38;5;241;43m=\u001b[39;49m\u001b[43mforce_all_finite\u001b[49m\u001b[43m \u001b[49m\u001b[38;5;241;43m==\u001b[39;49m\u001b[43m \u001b[49m\u001b[38;5;124;43m\"\u001b[39;49m\u001b[38;5;124;43mallow-nan\u001b[39;49m\u001b[38;5;124;43m\"\u001b[39;49m\u001b[43m,\u001b[49m\n\u001b[0;32m    962\u001b[0m \u001b[43m        \u001b[49m\u001b[43m)\u001b[49m\n\u001b[0;32m    964\u001b[0m \u001b[38;5;28;01mif\u001b[39;00m ensure_min_samples \u001b[38;5;241m>\u001b[39m \u001b[38;5;241m0\u001b[39m:\n\u001b[0;32m    965\u001b[0m     n_samples \u001b[38;5;241m=\u001b[39m _num_samples(array)\n",
      "File \u001b[1;32m~\\anaconda3\\envs\\video2text\\lib\\site-packages\\sklearn\\utils\\validation.py:122\u001b[0m, in \u001b[0;36m_assert_all_finite\u001b[1;34m(X, allow_nan, msg_dtype, estimator_name, input_name)\u001b[0m\n\u001b[0;32m    119\u001b[0m \u001b[38;5;28;01mif\u001b[39;00m first_pass_isfinite:\n\u001b[0;32m    120\u001b[0m     \u001b[38;5;28;01mreturn\u001b[39;00m\n\u001b[1;32m--> 122\u001b[0m \u001b[43m_assert_all_finite_element_wise\u001b[49m\u001b[43m(\u001b[49m\n\u001b[0;32m    123\u001b[0m \u001b[43m    \u001b[49m\u001b[43mX\u001b[49m\u001b[43m,\u001b[49m\n\u001b[0;32m    124\u001b[0m \u001b[43m    \u001b[49m\u001b[43mxp\u001b[49m\u001b[38;5;241;43m=\u001b[39;49m\u001b[43mxp\u001b[49m\u001b[43m,\u001b[49m\n\u001b[0;32m    125\u001b[0m \u001b[43m    \u001b[49m\u001b[43mallow_nan\u001b[49m\u001b[38;5;241;43m=\u001b[39;49m\u001b[43mallow_nan\u001b[49m\u001b[43m,\u001b[49m\n\u001b[0;32m    126\u001b[0m \u001b[43m    \u001b[49m\u001b[43mmsg_dtype\u001b[49m\u001b[38;5;241;43m=\u001b[39;49m\u001b[43mmsg_dtype\u001b[49m\u001b[43m,\u001b[49m\n\u001b[0;32m    127\u001b[0m \u001b[43m    \u001b[49m\u001b[43mestimator_name\u001b[49m\u001b[38;5;241;43m=\u001b[39;49m\u001b[43mestimator_name\u001b[49m\u001b[43m,\u001b[49m\n\u001b[0;32m    128\u001b[0m \u001b[43m    \u001b[49m\u001b[43minput_name\u001b[49m\u001b[38;5;241;43m=\u001b[39;49m\u001b[43minput_name\u001b[49m\u001b[43m,\u001b[49m\n\u001b[0;32m    129\u001b[0m \u001b[43m\u001b[49m\u001b[43m)\u001b[49m\n",
      "File \u001b[1;32m~\\anaconda3\\envs\\video2text\\lib\\site-packages\\sklearn\\utils\\validation.py:171\u001b[0m, in \u001b[0;36m_assert_all_finite_element_wise\u001b[1;34m(X, xp, allow_nan, msg_dtype, estimator_name, input_name)\u001b[0m\n\u001b[0;32m    154\u001b[0m \u001b[38;5;28;01mif\u001b[39;00m estimator_name \u001b[38;5;129;01mand\u001b[39;00m input_name \u001b[38;5;241m==\u001b[39m \u001b[38;5;124m\"\u001b[39m\u001b[38;5;124mX\u001b[39m\u001b[38;5;124m\"\u001b[39m \u001b[38;5;129;01mand\u001b[39;00m has_nan_error:\n\u001b[0;32m    155\u001b[0m     \u001b[38;5;66;03m# Improve the error message on how to handle missing values in\u001b[39;00m\n\u001b[0;32m    156\u001b[0m     \u001b[38;5;66;03m# scikit-learn.\u001b[39;00m\n\u001b[0;32m    157\u001b[0m     msg_err \u001b[38;5;241m+\u001b[39m\u001b[38;5;241m=\u001b[39m (\n\u001b[0;32m    158\u001b[0m         \u001b[38;5;124mf\u001b[39m\u001b[38;5;124m\"\u001b[39m\u001b[38;5;130;01m\\n\u001b[39;00m\u001b[38;5;132;01m{\u001b[39;00mestimator_name\u001b[38;5;132;01m}\u001b[39;00m\u001b[38;5;124m does not accept missing values\u001b[39m\u001b[38;5;124m\"\u001b[39m\n\u001b[0;32m    159\u001b[0m         \u001b[38;5;124m\"\u001b[39m\u001b[38;5;124m encoded as NaN natively. For supervised learning, you might want\u001b[39m\u001b[38;5;124m\"\u001b[39m\n\u001b[1;32m   (...)\u001b[0m\n\u001b[0;32m    169\u001b[0m         \u001b[38;5;124m\"\u001b[39m\u001b[38;5;124m#estimators-that-handle-nan-values\u001b[39m\u001b[38;5;124m\"\u001b[39m\n\u001b[0;32m    170\u001b[0m     )\n\u001b[1;32m--> 171\u001b[0m \u001b[38;5;28;01mraise\u001b[39;00m \u001b[38;5;167;01mValueError\u001b[39;00m(msg_err)\n",
      "\u001b[1;31mValueError\u001b[0m: Input contains NaN."
     ]
    }
   ],
   "source": [
    "freq_n = 1\n",
    "lag = 90\n",
    "l2_coef = 0\n",
    "pdf_result_r2, pdf_result_mse = main('wlk_15')"
   ]
  },
  {
   "cell_type": "code",
   "execution_count": null,
   "id": "e8ec97e4-5829-4138-96cc-76618ad9a69c",
   "metadata": {},
   "outputs": [],
   "source": [
    "# pdf_to_tex_r2 = pdf_result_r2.loc[[3,7,15,20,25]]\n",
    "# pdf_to_tex_r2.columns = pd.MultiIndex.from_tuples([('Only X axis', 'R2'), ('Only Y axis', 'R2'),\t('rSS for X,Y', 'R2'), ('Tensor X,Y', 'R2')])\n",
    "# pdf_to_tex_mse = pdf_result_mse.loc[[3,7,15,20,25]]\n",
    "# pdf_to_tex_mse.columns = pd.MultiIndex.from_tuples([('Only X axis', 'rMSE'), ('Only Y axis', 'rMSE'),\t('rSS for X,Y' , 'rMSE'), ('Tensor X,Y', 'rMSE')])\n",
    "\n",
    "# pdf = pd.concat([pdf_to_tex_r2,pdf_to_tex_mse], axis = 1)\n",
    "# pdf = pdf.reindex(sorted(pdf.columns), axis=1)\n",
    "# pdf.index.names = ['Dimension']\n",
    "\n",
    "# column_format = 'l|'+'|'.join(['p{1cm}p{1cm}' for _ in range(int(pdf.shape[1]/2))])\n",
    "# print(pdf.astype(float).to_latex(float_format=\"{:.2f}\".format, column_format = column_format).replace('{r}', '{p{2cm}}'))"
   ]
  },
  {
   "cell_type": "code",
   "execution_count": null,
   "id": "c353efa3-0a2a-47d7-9ee7-a5c1d6354b1d",
   "metadata": {},
   "outputs": [],
   "source": [
    "pdf_result_r2, pdf_result_mse = main('jog_16')"
   ]
  },
  {
   "cell_type": "code",
   "execution_count": null,
   "id": "7e54036a-f155-4a66-9aca-ec5425f7280c",
   "metadata": {},
   "outputs": [],
   "source": [
    "pdf_to_tex_r2 = pdf_result_r2.loc[[3,7,15,20,25]]\n",
    "pdf_to_tex_r2.columns = pd.MultiIndex.from_tuples([('Only X axis', 'R2'), ('Only Y axis', 'R2'),\t('rSS for X,Y', 'R2'), ('Tensor X,Y', 'R2')])\n",
    "pdf_to_tex_mse = pdf_result_mse.loc[[3,7,15,20,25]]\n",
    "pdf_to_tex_mse.columns = pd.MultiIndex.from_tuples([('Only X axis', 'rMSE'), ('Only Y axis', 'rMSE'),\t('rSS for X,Y' , 'rMSE'), ('Tensor X,Y', 'rMSE')])\n",
    "\n",
    "pdf = pd.concat([pdf_to_tex_r2,pdf_to_tex_mse], axis = 1)\n",
    "pdf = pdf.reindex(sorted(pdf.columns), axis=1)\n",
    "pdf.index.names = ['Dimension']\n",
    "\n",
    "column_format = 'l|'+'|'.join(['p{1cm}p{1cm}' for _ in range(int(pdf.shape[1]/2))])\n",
    "print(pdf.astype(float).to_latex(float_format=\"{:.2f}\".format, column_format = column_format).replace('{r}', '{p{2cm}}'))"
   ]
  },
  {
   "cell_type": "code",
   "execution_count": null,
   "id": "a3f74769-55a6-4b3a-bea9-2c39bf652314",
   "metadata": {},
   "outputs": [],
   "source": []
  }
 ],
 "metadata": {
  "kernelspec": {
   "display_name": "Python 3 (ipykernel)",
   "language": "python",
   "name": "python3"
  },
  "language_info": {
   "codemirror_mode": {
    "name": "ipython",
    "version": 3
   },
   "file_extension": ".py",
   "mimetype": "text/x-python",
   "name": "python",
   "nbconvert_exporter": "python",
   "pygments_lexer": "ipython3",
   "version": "3.8.18"
  }
 },
 "nbformat": 4,
 "nbformat_minor": 5
}
